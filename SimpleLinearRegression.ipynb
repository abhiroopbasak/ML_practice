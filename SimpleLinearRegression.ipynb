{
 "cells": [
  {
   "cell_type": "code",
   "execution_count": 8,
   "metadata": {},
   "outputs": [
    {
     "name": "stdout",
     "output_type": "stream",
     "text": [
      "Model with [0.00027217] % accuracy\n"
     ]
    }
   ],
   "source": [
    "import numpy as np\n",
    "from sklearn.linear_model import LinearRegression\n",
    "x=np.array([2,5,9,3,5,7])\n",
    "x=x.reshape(-1,1)\n",
    "y=np.array([20,45,93,33,50,72])\n",
    "mind=LinearRegression()\n",
    "mind.fit(x,y)\n",
    "mind.coef_\n",
    "r=mind.predict([[8]])\n",
    "sqd=((80-r)/80)**2\n",
    "print(\"Model with\",sqd,\"% accuracy\")"
   ]
  },
  {
   "cell_type": "code",
   "execution_count": null,
   "metadata": {},
   "outputs": [],
   "source": []
  },
  {
   "cell_type": "code",
   "execution_count": 5,
   "metadata": {},
   "outputs": [
    {
     "name": "stdout",
     "output_type": "stream",
     "text": [
      "Model Training!\n",
      "Enter the number of dataset you want to enter10\n",
      "Enter key value pair:\n",
      ">>>3\n",
      ">>>32\n",
      "Enter key value pair:\n",
      ">>>4\n",
      ">>>38\n",
      "Enter key value pair:\n",
      ">>>5\n",
      ">>>50\n",
      "Enter key value pair:\n",
      ">>>6\n",
      ">>>55\n",
      "Enter key value pair:\n",
      ">>>7\n",
      ">>>78\n",
      "Enter key value pair:\n",
      ">>>8\n",
      ">>>79\n",
      "Enter key value pair:\n",
      ">>>9\n",
      ">>>90\n",
      "Enter key value pair:\n",
      ">>>1\n",
      ">>>20\n",
      "Enter key value pair:\n",
      ">>>2\n",
      ">>>19\n",
      "Enter key value pair:\n",
      ">>>3\n",
      ">>>23\n"
     ]
    },
    {
     "data": {
      "image/png": "[encoded data removed]",
      "text/plain": [
       "<Figure size 720x360 with 1 Axes>"
      ]
     },
     "metadata": {
      "needs_background": "light"
     },
     "output_type": "display_data"
    },
    {
     "name": "stdout",
     "output_type": "stream",
     "text": [
      "Test Data\n",
      "Enter the number of dataset you want to enter2\n",
      "Enter key value pair:\n",
      ">>>3\n",
      ">>>30\n",
      "Predicted value is  [30.85849057] . Actual value is  30\n",
      "Model with [99.91811044] % accuracy\n",
      "Enter key value pair:\n",
      ">>>5\n",
      ">>>50\n",
      "Predicted value is  [50.3490566] . Actual value is  50\n",
      "Model with [99.99512638] % accuracy\n",
      "Model works with approximate  [99.91323682] % accuracy!\n"
     ]
    }
   ],
   "source": [
    "import numpy as np\n",
    "from sklearn.linear_model import LinearRegression\n",
    "import matplotlib.pyplot as plt\n",
    "\n",
    "key=[]\n",
    "value=[]\n",
    "final=0\n",
    "print(\"Model Training!\")\n",
    "num=int(input(\"Enter the number of dataset you want to enter\"))\n",
    "for i in range(num):\n",
    "    print(\"Enter key value pair:\")\n",
    "    k=int(input(\">>>\"))\n",
    "    v=int(input(\">>>\"))\n",
    "    key.append(k)\n",
    "    value.append(v)\n",
    "    \n",
    "fig=plt.figure(figsize=(10,5))\n",
    "plt.bar(key, value, color='green', width=0.4)\n",
    "plt.xlabel(\"Key\")\n",
    "plt.ylabel(\"Value\")\n",
    "plt.title(\"Linear Regression\")\n",
    "plt.show()\n",
    "    \n",
    "key=np.array(key)\n",
    "value=np.array(value)\n",
    "key=key.reshape(-1,1)\n",
    "mind=LinearRegression()\n",
    "mind.fit(key,value)\n",
    "mind.coef_\n",
    "\n",
    "print(\"Test Data\")\n",
    "tnum=int(input(\"Enter the number of dataset you want to enter\"))\n",
    "for i in range(tnum):\n",
    "    print(\"Enter key value pair:\")\n",
    "    tk=int(input(\">>>\"))\n",
    "    tv=int(input(\">>>\"))\n",
    "    r=mind.predict([[tk]])\n",
    "    print(\"Predicted value is \",r,\". Actual value is \",tv)\n",
    "    sqd=(((tv-r)/tv)**2)*100\n",
    "    print(\"Model with\",100-sqd,\"% accuracy\")\n",
    "    final+=sqd\n",
    "print(\"Model works with approximate \",100-(final/i),\"% accuracy!\")"
   ]
  },
  {
   "cell_type": "code",
   "execution_count": 6,
   "metadata": {},
   "outputs": [
    {
     "data": {
      "image/png": "[encoded data removed]",
      "text/plain": [
       "<Figure size 720x360 with 1 Axes>"
      ]
     },
     "metadata": {},
     "output_type": "display_data"
    }
   ],
   "source": [
    "import numpy as np\n",
    "import matplotlib.pyplot as plt\n",
    "data={'c':20, 'c++':40, \"python\":60, \"java\":50}\n",
    "language=list(data.keys())\n",
    "number=list(data.values())\n",
    "fig=plt.figure(figsize=(10,5))\n",
    "plt.pie(number, labels=language)\n",
    "#plt.xlabel(\"Key\")\n",
    "#plt.ylabel(\"Value\")\n",
    "plt.title(\"Linear Regression\")\n",
    "plt.show()"
   ]
  },
  {
   "cell_type": "code",
   "execution_count": null,
   "metadata": {},
   "outputs": [],
   "source": []
  },
  {
   "cell_type": "code",
   "execution_count": null,
   "metadata": {},
   "outputs": [],
   "source": []
  },
  {
   "cell_type": "code",
   "execution_count": null,
   "metadata": {},
   "outputs": [],
   "source": []
  },
  {
   "cell_type": "code",
   "execution_count": null,
   "metadata": {},
   "outputs": [],
   "source": []
  }
 ],
 "metadata": {
  "kernelspec": {
   "display_name": "Python 3",
   "language": "python",
   "name": "python3"
  },
  "language_info": {
   "codemirror_mode": {
    "name": "ipython",
    "version": 3
   },
   "file_extension": ".py",
   "mimetype": "text/x-python",
   "name": "python",
   "nbconvert_exporter": "python",
   "pygments_lexer": "ipython3",
   "version": "3.7.3"
  }
 },
 "nbformat": 4,
 "nbformat_minor": 2
}
